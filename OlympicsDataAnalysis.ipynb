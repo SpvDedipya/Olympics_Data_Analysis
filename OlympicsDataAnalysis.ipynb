{
  "nbformat": 4,
  "nbformat_minor": 0,
  "metadata": {
    "colab": {
      "name": "OlympicsDataAnalysis.ipynb",
      "provenance": []
    },
    "kernelspec": {
      "name": "python3",
      "display_name": "Python 3"
    },
    "language_info": {
      "name": "python"
    }
  },
  "cells": [
    {
      "cell_type": "code",
      "metadata": {
        "id": "mwj2z2r8IsWl"
      },
      "source": [
        ""
      ],
      "execution_count": null,
      "outputs": []
    },
    {
      "cell_type": "markdown",
      "metadata": {
        "id": "v9KmF2boKOtw"
      },
      "source": [
        "# Olympics data analysis"
      ]
    },
    {
      "cell_type": "code",
      "metadata": {
        "id": "imbqE96CKo5s"
      },
      "source": [
        "import pandas as pd\n",
        "import numpy as np\n",
        "import matplotlib.pyplot as plt"
      ],
      "execution_count": 10,
      "outputs": []
    },
    {
      "cell_type": "code",
      "metadata": {
        "id": "AHaDHlvPLEAu"
      },
      "source": [
        "df = pd.read_csv(\"olympics.csv\")"
      ],
      "execution_count": 11,
      "outputs": []
    },
    {
      "cell_type": "code",
      "metadata": {
        "colab": {
          "base_uri": "https://localhost:8080/",
          "height": 203
        },
        "id": "XJXgPg2lMMGS",
        "outputId": "1498670a-16b9-4abf-b5ab-1ae6792a8b31"
      },
      "source": [
        "df.head()"
      ],
      "execution_count": 65,
      "outputs": [
        {
          "output_type": "execute_result",
          "data": {
            "text/html": [
              "<div>\n",
              "<style scoped>\n",
              "    .dataframe tbody tr th:only-of-type {\n",
              "        vertical-align: middle;\n",
              "    }\n",
              "\n",
              "    .dataframe tbody tr th {\n",
              "        vertical-align: top;\n",
              "    }\n",
              "\n",
              "    .dataframe thead th {\n",
              "        text-align: right;\n",
              "    }\n",
              "</style>\n",
              "<table border=\"1\" class=\"dataframe\">\n",
              "  <thead>\n",
              "    <tr style=\"text-align: right;\">\n",
              "      <th></th>\n",
              "      <th>Year</th>\n",
              "      <th>City</th>\n",
              "      <th>Sport</th>\n",
              "      <th>Discipline</th>\n",
              "      <th>Athlete</th>\n",
              "      <th>Country</th>\n",
              "      <th>Gender</th>\n",
              "      <th>Event</th>\n",
              "      <th>Medal</th>\n",
              "    </tr>\n",
              "  </thead>\n",
              "  <tbody>\n",
              "    <tr>\n",
              "      <th>0</th>\n",
              "      <td>1896</td>\n",
              "      <td>Athens</td>\n",
              "      <td>Aquatics</td>\n",
              "      <td>Swimming</td>\n",
              "      <td>HAJOS, Alfred</td>\n",
              "      <td>HUN</td>\n",
              "      <td>Men</td>\n",
              "      <td>100M Freestyle</td>\n",
              "      <td>Gold</td>\n",
              "    </tr>\n",
              "    <tr>\n",
              "      <th>1</th>\n",
              "      <td>1896</td>\n",
              "      <td>Athens</td>\n",
              "      <td>Aquatics</td>\n",
              "      <td>Swimming</td>\n",
              "      <td>HERSCHMANN, Otto</td>\n",
              "      <td>AUT</td>\n",
              "      <td>Men</td>\n",
              "      <td>100M Freestyle</td>\n",
              "      <td>Silver</td>\n",
              "    </tr>\n",
              "    <tr>\n",
              "      <th>2</th>\n",
              "      <td>1896</td>\n",
              "      <td>Athens</td>\n",
              "      <td>Aquatics</td>\n",
              "      <td>Swimming</td>\n",
              "      <td>DRIVAS, Dimitrios</td>\n",
              "      <td>GRE</td>\n",
              "      <td>Men</td>\n",
              "      <td>100M Freestyle For Sailors</td>\n",
              "      <td>Bronze</td>\n",
              "    </tr>\n",
              "    <tr>\n",
              "      <th>3</th>\n",
              "      <td>1896</td>\n",
              "      <td>Athens</td>\n",
              "      <td>Aquatics</td>\n",
              "      <td>Swimming</td>\n",
              "      <td>MALOKINIS, Ioannis</td>\n",
              "      <td>GRE</td>\n",
              "      <td>Men</td>\n",
              "      <td>100M Freestyle For Sailors</td>\n",
              "      <td>Gold</td>\n",
              "    </tr>\n",
              "    <tr>\n",
              "      <th>4</th>\n",
              "      <td>1896</td>\n",
              "      <td>Athens</td>\n",
              "      <td>Aquatics</td>\n",
              "      <td>Swimming</td>\n",
              "      <td>CHASAPIS, Spiridon</td>\n",
              "      <td>GRE</td>\n",
              "      <td>Men</td>\n",
              "      <td>100M Freestyle For Sailors</td>\n",
              "      <td>Silver</td>\n",
              "    </tr>\n",
              "  </tbody>\n",
              "</table>\n",
              "</div>"
            ],
            "text/plain": [
              "   Year    City     Sport  ... Gender                       Event   Medal\n",
              "0  1896  Athens  Aquatics  ...    Men              100M Freestyle    Gold\n",
              "1  1896  Athens  Aquatics  ...    Men              100M Freestyle  Silver\n",
              "2  1896  Athens  Aquatics  ...    Men  100M Freestyle For Sailors  Bronze\n",
              "3  1896  Athens  Aquatics  ...    Men  100M Freestyle For Sailors    Gold\n",
              "4  1896  Athens  Aquatics  ...    Men  100M Freestyle For Sailors  Silver\n",
              "\n",
              "[5 rows x 9 columns]"
            ]
          },
          "metadata": {},
          "execution_count": 65
        }
      ]
    },
    {
      "cell_type": "markdown",
      "metadata": {
        "id": "amUWbABIKqFF"
      },
      "source": [
        "## 1. In how many cities Summer Olympics is held so far?\n",
        "\n",
        "\n"
      ]
    },
    {
      "cell_type": "code",
      "metadata": {
        "colab": {
          "base_uri": "https://localhost:8080/"
        },
        "id": "AC5S3-sbMDsb",
        "outputId": "c74ae301-b95e-4856-a7d9-11757238068a"
      },
      "source": [
        "data = []\n",
        "city_num=0\n",
        "for city in df['City'].unique():\n",
        "    city_num=city_num+1\n",
        "print(\"Number of cities summer olympics is held is  : \",city_num)\n",
        "\n",
        "print(\"They are : \")\n",
        "df['City'].unique()"
      ],
      "execution_count": 40,
      "outputs": [
        {
          "output_type": "stream",
          "name": "stdout",
          "text": [
            "Number of cities summer olympics is held is  :  22\n",
            "They are : \n"
          ]
        },
        {
          "output_type": "execute_result",
          "data": {
            "text/plain": [
              "array(['Athens', 'Paris', 'St Louis', 'London', 'Stockholm', 'Antwerp',\n",
              "       'Amsterdam', 'Los Angeles', 'Berlin', 'Helsinki',\n",
              "       'Melbourne / Stockholm', 'Rome', 'Tokyo', 'Mexico', 'Munich',\n",
              "       'Montreal', 'Moscow', 'Seoul', 'Barcelona', 'Atlanta', 'Sydney',\n",
              "       'Beijing'], dtype=object)"
            ]
          },
          "metadata": {},
          "execution_count": 40
        }
      ]
    },
    {
      "cell_type": "markdown",
      "metadata": {
        "id": "47FYBr4lOkpx"
      },
      "source": [
        "##*2*. Which sport is having most number of Gold Medals so far? (Top 5)"
      ]
    },
    {
      "cell_type": "code",
      "metadata": {
        "colab": {
          "base_uri": "https://localhost:8080/",
          "height": 399
        },
        "id": "3ZsD5bGKOrqG",
        "outputId": "c994296e-079a-4350-b9de-131c7545d981"
      },
      "source": [
        "data = []\n",
        "gold_max = df[df['Medal']=='Gold']\n",
        "\n",
        "for sport in gold_max['Sport'].unique():\n",
        "  data.append([sport, len(gold_max[gold_max['Sport']==sport])])\n",
        "data = pd.DataFrame(data, columns=['Sport', 'Gold']).sort_values(by='Gold', ascending=False).head()\n",
        "data.plot(x='Sport', y='Gold', kind='bar', figsize=(10, 5))\n"
      ],
      "execution_count": 67,
      "outputs": [
        {
          "output_type": "execute_result",
          "data": {
            "text/plain": [
              "<matplotlib.axes._subplots.AxesSubplot at 0x7f75029f0910>"
            ]
          },
          "metadata": {},
          "execution_count": 67
        },
        {
          "output_type": "display_data",
          "data": {
            "image/png": "[encoded data removed]",
            "text/plain": [
              "<Figure size 720x360 with 1 Axes>"
            ]
          },
          "metadata": {
            "needs_background": "light"
          }
        }
      ]
    },
    {
      "cell_type": "markdown",
      "metadata": {
        "id": "GLFd74s2PCGq"
      },
      "source": [
        "## 3. Which sport is having most number of medals so far? (Top 5)"
      ]
    },
    {
      "cell_type": "code",
      "metadata": {
        "colab": {
          "base_uri": "https://localhost:8080/",
          "height": 626
        },
        "id": "ym20sSptPK4l",
        "outputId": "654ae34e-0eb3-4ae9-903d-a6236ea2f039"
      },
      "source": [
        "print(df.groupby('Sport').count()['Medal'].sort_values(ascending=False).head())\n",
        "data = []\n",
        "\n",
        "for Sport in df['Sport'].unique():\n",
        "    data.append([Sport , len(df[df['Sport']  == Sport])])\n",
        "\n",
        "pd.DataFrame(data,columns = ['Sport','freq']).sort_values(by='freq', ascending=False).head().plot(x = 'Sport', y = 'freq', kind = 'bar', figsize = (7,7))"
      ],
      "execution_count": 71,
      "outputs": [
        {
          "output_type": "stream",
          "name": "stdout",
          "text": [
            "Sport\n",
            "Aquatics      4170\n",
            "Athletics     3638\n",
            "Rowing        2667\n",
            "Gymnastics    2307\n",
            "Fencing       1613\n",
            "Name: Medal, dtype: int64\n"
          ]
        },
        {
          "output_type": "execute_result",
          "data": {
            "text/plain": [
              "<matplotlib.axes._subplots.AxesSubplot at 0x7f750292c8d0>"
            ]
          },
          "metadata": {},
          "execution_count": 71
        },
        {
          "output_type": "display_data",
          "data": {
            "image/png": "[encoded data removed]",
            "text/plain": [
              "<Figure size 504x504 with 1 Axes>"
            ]
          },
          "metadata": {
            "needs_background": "light"
          }
        }
      ]
    },
    {
      "cell_type": "markdown",
      "metadata": {
        "id": "sQMs31ilYYdt"
      },
      "source": [
        "## 4. Which player has won most number of medals? (Top 5)"
      ]
    },
    {
      "cell_type": "code",
      "metadata": {
        "colab": {
          "base_uri": "https://localhost:8080/"
        },
        "id": "zCO_0wQ-YigT",
        "outputId": "931cd18b-f7b6-434e-f890-e0fe848f72e4"
      },
      "source": [
        "df.groupby('Athlete').count()['Medal'].sort_values(ascending=False).head()"
      ],
      "execution_count": 72,
      "outputs": [
        {
          "output_type": "execute_result",
          "data": {
            "text/plain": [
              "Athlete\n",
              "PHELPS, Michael         22\n",
              "LATYNINA, Larisa        18\n",
              "ANDRIANOV, Nikolay      15\n",
              "MANGIAROTTI, Edoardo    13\n",
              "SHAKHLIN, Boris         13\n",
              "Name: Medal, dtype: int64"
            ]
          },
          "metadata": {},
          "execution_count": 72
        }
      ]
    },
    {
      "cell_type": "code",
      "metadata": {
        "colab": {
          "base_uri": "https://localhost:8080/",
          "height": 567
        },
        "id": "aVmajfuAZRvY",
        "outputId": "72db2aea-a1e9-400c-e78a-2e341d576b86"
      },
      "source": [
        "df.groupby('Athlete').count()['Medal'].sort_values(ascending=False).head().plot.bar(figsize=(7, 7))"
      ],
      "execution_count": 73,
      "outputs": [
        {
          "output_type": "execute_result",
          "data": {
            "text/plain": [
              "<matplotlib.axes._subplots.AxesSubplot at 0x7f750289e390>"
            ]
          },
          "metadata": {},
          "execution_count": 73
        },
        {
          "output_type": "display_data",
          "data": {
            "image/png": "[encoded data removed]",
            "text/plain": [
              "<Figure size 504x504 with 1 Axes>"
            ]
          },
          "metadata": {
            "needs_background": "light"
          }
        }
      ]
    },
    {
      "cell_type": "markdown",
      "metadata": {
        "id": "p5f1FJWKZd1e"
      },
      "source": [
        "## 5. Which player has won most number Gold Medals of medals? (Top 5)"
      ]
    },
    {
      "cell_type": "code",
      "metadata": {
        "colab": {
          "base_uri": "https://localhost:8080/"
        },
        "id": "iPf3KJMvZaD6",
        "outputId": "172cd63e-413e-43ed-fa39-a681cc87d7d9"
      },
      "source": [
        "gold.groupby('Athlete').count()['Medal'].sort_values(ascending=False).head()\n"
      ],
      "execution_count": 74,
      "outputs": [
        {
          "output_type": "execute_result",
          "data": {
            "text/plain": [
              "Athlete\n",
              "PHELPS, Michael     18\n",
              "NURMI, Paavo         9\n",
              "SPITZ, Mark          9\n",
              "LEWIS, Carl          9\n",
              "LATYNINA, Larisa     9\n",
              "Name: Medal, dtype: int64"
            ]
          },
          "metadata": {},
          "execution_count": 74
        }
      ]
    },
    {
      "cell_type": "code",
      "metadata": {
        "colab": {
          "base_uri": "https://localhost:8080/",
          "height": 426
        },
        "id": "wWKoO0XbZ5TT",
        "outputId": "07684f6e-aa30-465e-dac5-58ad3af310c6"
      },
      "source": [
        "gold.groupby('Athlete').count()['Medal'].sort_values(ascending=False).head(5).plot.bar(figsize=(10, 5))\n"
      ],
      "execution_count": 75,
      "outputs": [
        {
          "output_type": "execute_result",
          "data": {
            "text/plain": [
              "<matplotlib.axes._subplots.AxesSubplot at 0x7f7502815310>"
            ]
          },
          "metadata": {},
          "execution_count": 75
        },
        {
          "output_type": "display_data",
          "data": {
            "image/png": "[encoded data removed]",
            "text/plain": [
              "<Figure size 720x360 with 1 Axes>"
            ]
          },
          "metadata": {
            "needs_background": "light"
          }
        }
      ]
    },
    {
      "cell_type": "markdown",
      "metadata": {
        "id": "RL19lwuLZ_0B"
      },
      "source": [
        "## 6. In which year India won first Gold Medal in Summer Olympics?"
      ]
    },
    {
      "cell_type": "code",
      "metadata": {
        "colab": {
          "base_uri": "https://localhost:8080/"
        },
        "id": "2qVhgraUaN0S",
        "outputId": "bafef27e-4324-47aa-c366-9c6ab0bc8a30"
      },
      "source": [
        "gold[gold['Country']=='IND']['Year'].min()\n"
      ],
      "execution_count": 76,
      "outputs": [
        {
          "output_type": "execute_result",
          "data": {
            "text/plain": [
              "1928"
            ]
          },
          "metadata": {},
          "execution_count": 76
        }
      ]
    },
    {
      "cell_type": "markdown",
      "metadata": {
        "id": "6Mveq1CNaa6g"
      },
      "source": [
        "## 7. Which event is most popular in terms on number of players? (Top 5)"
      ]
    },
    {
      "cell_type": "code",
      "metadata": {
        "colab": {
          "base_uri": "https://localhost:8080/"
        },
        "id": "cGBpTR5Jahf_",
        "outputId": "17f935ba-91eb-4801-b7cf-4e654973ae92"
      },
      "source": [
        "df.groupby(\"Event\").count()['Athlete'].sort_values(ascending=False).head()"
      ],
      "execution_count": 77,
      "outputs": [
        {
          "output_type": "execute_result",
          "data": {
            "text/plain": [
              "Event\n",
              "Football            1497\n",
              "Hockey              1422\n",
              "Team Competition    1147\n",
              "Basketball          1012\n",
              "Handball             973\n",
              "Name: Athlete, dtype: int64"
            ]
          },
          "metadata": {},
          "execution_count": 77
        }
      ]
    },
    {
      "cell_type": "code",
      "metadata": {
        "colab": {
          "base_uri": "https://localhost:8080/",
          "height": 431
        },
        "id": "2dbaSN0fa60L",
        "outputId": "20e4371e-a284-4815-d3e4-2e04086c2655"
      },
      "source": [
        "df.groupby(\"Event\").count()['Athlete'].sort_values(ascending=False).head(5).plot.bar(figsize=(15, 5))\n"
      ],
      "execution_count": 78,
      "outputs": [
        {
          "output_type": "execute_result",
          "data": {
            "text/plain": [
              "<matplotlib.axes._subplots.AxesSubplot at 0x7f750279b710>"
            ]
          },
          "metadata": {},
          "execution_count": 78
        },
        {
          "output_type": "display_data",
          "data": {
            "image/png": "[encoded data removed]",
            "text/plain": [
              "<Figure size 1080x360 with 1 Axes>"
            ]
          },
          "metadata": {
            "needs_background": "light"
          }
        }
      ]
    },
    {
      "cell_type": "markdown",
      "metadata": {
        "id": "uIHNSHG2avt5"
      },
      "source": [
        "## 8. Which sport is having most female Gold Medalists? (Top 5)"
      ]
    },
    {
      "cell_type": "code",
      "metadata": {
        "colab": {
          "base_uri": "https://localhost:8080/",
          "height": 399
        },
        "id": "bHARjPsca02A",
        "outputId": "39427520-280c-4999-ca32-3ff18c2e9497"
      },
      "source": [
        "Female_gold_medal = gold[gold['Gender']=='Women']\n",
        "data=[]\n",
        "for sport in Female_gold_medal['Sport'].unique():\n",
        "  data.append([sport, len(Female_gold_medal[Female_gold_medal['Sport']==sport])])\n",
        "\n",
        "data= pd.DataFrame(data, columns=['Sport', 'Female_gold_medal']).sort_values(by='Female_gold_medal', ascending=False).head()\n",
        "data.plot(x='Sport' ,y='Female_gold_medal', kind='bar', figsize=(15, 5))"
      ],
      "execution_count": 79,
      "outputs": [
        {
          "output_type": "execute_result",
          "data": {
            "text/plain": [
              "<matplotlib.axes._subplots.AxesSubplot at 0x7f7502707a10>"
            ]
          },
          "metadata": {},
          "execution_count": 79
        },
        {
          "output_type": "display_data",
          "data": {
            "image/png": "[encoded data removed]",
            "text/plain": [
              "<Figure size 1080x360 with 1 Axes>"
            ]
          },
          "metadata": {
            "needs_background": "light"
          }
        }
      ]
    }
  ]
}